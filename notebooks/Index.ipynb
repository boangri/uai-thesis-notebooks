{
  "nbformat": 4,
  "nbformat_minor": 0,
  "metadata": {
    "colab": {
      "name": "Index.ipynb",
      "provenance": [],
      "authorship_tag": "ABX9TyPiL1mlxlCAGJ4ZME9c3QHu",
      "include_colab_link": true
    },
    "kernelspec": {
      "name": "python3",
      "display_name": "Python 3"
    },
    "language_info": {
      "name": "python"
    }
  },
  "cells": [
    {
      "cell_type": "markdown",
      "metadata": {
        "id": "view-in-github",
        "colab_type": "text"
      },
      "source": [
        "<a href=\"https://colab.research.google.com/github/boangri/uai-thesis-notebooks/blob/main/notebooks/Index.ipynb\" target=\"_parent\"><img src=\"https://colab.research.google.com/assets/colab-badge.svg\" alt=\"Open In Colab\"/></a>"
      ]
    },
    {
      "cell_type": "markdown",
      "metadata": {
        "id": "231dMtCJ5ni7"
      },
      "source": [
        "# Сравнительный анализ алгоритмов обучения с подкреплением\n",
        "\n",
        "* [Deep Q Learning - DQN](https://colab.research.google.com/drive/1Spo6XhImQADIDNbvVpzxbj9IM5OdPybl?usp=sharing)\n",
        "* [Double DQN](https://colab.research.google.com/drive/1buQpJeGI9teSL4TOxPLf1PzJBZQpLMEH?usp=sharing)\n",
        "* [REINFORCE](https://colab.research.google.com/drive/1V1qQBOZwszLzSh8o0hquKhKUi3bBvwUz?usp=sharing)\n",
        "* [Actor Critic](https://colab.research.google.com/drive/1gGbQkvjrsqPK9OYP8A364LkQUT6RDg-k?usp=sharing)"
      ]
    },
    {
      "cell_type": "code",
      "metadata": {
        "id": "VzHkJRLN5eLK"
      },
      "source": [
        ""
      ],
      "execution_count": null,
      "outputs": []
    }
  ]
}